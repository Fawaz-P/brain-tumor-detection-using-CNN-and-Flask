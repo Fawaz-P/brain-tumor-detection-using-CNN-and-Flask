{
 "cells": [
  {
   "cell_type": "code",
   "execution_count": null,
   "id": "8dea89dc",
   "metadata": {},
   "outputs": [],
   "source": [
    "import numpy as np\n",
    "import matplotlib.pyplot as plt\n",
    "import cv2\n",
    "import os\n",
    "import tensorflow as tf\n",
    "from PIL import Image\n",
    "#from tensorflow.keras.utils import normalize, to_categorical\n",
    "from sklearn.model_selection import train_test_split"
   ]
  },
  {
   "cell_type": "code",
   "execution_count": null,
   "id": "5310d7dd",
   "metadata": {},
   "outputs": [],
   "source": [
    "pip install opencv-python"
   ]
  },
  {
   "cell_type": "code",
   "execution_count": null,
   "id": "a0c2d1ce",
   "metadata": {},
   "outputs": [],
   "source": [
    "pip install tensorflow"
   ]
  },
  {
   "cell_type": "code",
   "execution_count": null,
   "id": "86d65d47",
   "metadata": {},
   "outputs": [],
   "source": [
    "from tensorflow.keras.utils import normalize, to_categorical\n"
   ]
  },
  {
   "cell_type": "code",
   "execution_count": null,
   "id": "fd195028",
   "metadata": {},
   "outputs": [],
   "source": [
    "from tensorflow.keras.models import Sequential, load_model\n",
    "from tensorflow.keras.layers import Conv2D, MaxPooling2D, Activation, Dropout, Flatten, Dense "
   ]
  },
  {
   "cell_type": "code",
   "execution_count": 8,
   "id": "46257528",
   "metadata": {},
   "outputs": [
    {
     "name": "stdout",
     "output_type": "stream",
     "text": [
      "No Tumor:  1500\n",
      "Tumor:  1500\n"
     ]
    }
   ],
   "source": [
    "image_directory='C:/Users/Dell/Desktop/PROJECT/datasets/'\n",
    "no_tumor_images=os.listdir(image_directory+ 'no/')\n",
    "yes_tumor_images=os.listdir(image_directory+ 'yes/')\n",
    "\n",
    "print('No Tumor: ', len(no_tumor_images))\n",
    "print('Tumor: ',len(yes_tumor_images))"
   ]
  },
  {
   "cell_type": "code",
   "execution_count": null,
   "id": "f31b0a63",
   "metadata": {},
   "outputs": [],
   "source": [
    "pip install os"
   ]
  },
  {
   "cell_type": "code",
   "execution_count": null,
   "id": "42c24f14",
   "metadata": {},
   "outputs": [],
   "source": []
  },
  {
   "cell_type": "code",
   "execution_count": 5,
   "id": "315d15f1",
   "metadata": {},
   "outputs": [],
   "source": [
    "dataset=[]\n",
    "label=[]\n",
    "\n",
    "INPUT_SIZE=64"
   ]
  },
  {
   "cell_type": "code",
   "execution_count": 6,
   "id": "ce63cf03",
   "metadata": {},
   "outputs": [],
   "source": [
    "for i , image_name in enumerate(no_tumor_images):\n",
    "    if(image_name.split('.')[1]=='jpg'):\n",
    "        image=cv2.imread(image_directory+'no/'+image_name)\n",
    "        image=Image.fromarray(image,'RGB')\n",
    "        image=image.resize((INPUT_SIZE,INPUT_SIZE))\n",
    "        dataset.append(np.array(image))\n",
    "        label.append(0)"
   ]
  },
  {
   "cell_type": "code",
   "execution_count": 7,
   "id": "ceb8c4dd",
   "metadata": {},
   "outputs": [],
   "source": [
    "for i , image_name in enumerate(yes_tumor_images):\n",
    "    if(image_name.split('.')[1]=='jpg'):\n",
    "        image=cv2.imread(image_directory+'yes/'+image_name)\n",
    "        image=Image.fromarray(image, 'RGB')\n",
    "        image=image.resize((INPUT_SIZE,INPUT_SIZE))\n",
    "        dataset.append(np.array(image))\n",
    "        label.append(1)"
   ]
  },
  {
   "cell_type": "code",
   "execution_count": 8,
   "id": "6be0e075",
   "metadata": {},
   "outputs": [
    {
     "name": "stdout",
     "output_type": "stream",
     "text": [
      "Dataset:  3000\n",
      "Label:  3000\n"
     ]
    }
   ],
   "source": [
    "dataset=np.array(dataset)\n",
    "label=np.array(label)\n",
    "\n",
    "print('Dataset: ',len(dataset))\n",
    "print('Label: ',len(label))"
   ]
  },
  {
   "cell_type": "code",
   "execution_count": 9,
   "id": "aa789357",
   "metadata": {},
   "outputs": [],
   "source": [
    "X_train, X_test, y_train, y_test = train_test_split(dataset, label, test_size=0.2, random_state=2023)"
   ]
  },
  {
   "cell_type": "code",
   "execution_count": 10,
   "id": "3dc82d9b",
   "metadata": {},
   "outputs": [],
   "source": [
    "X_train = normalize(X_train, axis=1)\n",
    "X_test = normalize(X_test, axis=1)\n"
   ]
  },
  {
   "cell_type": "code",
   "execution_count": 12,
   "id": "e671bdb7",
   "metadata": {},
   "outputs": [],
   "source": [
    "model=Sequential()\n",
    "\n",
    "model.add(Conv2D(32, (3,3),activation='relu', input_shape=(INPUT_SIZE, INPUT_SIZE, 3)))\n",
    "model.add(MaxPooling2D(pool_size=(2,2)))\n",
    "\n",
    "model.add(Conv2D(32, (3,3),activation='relu', kernel_initializer='he_uniform'))\n",
    "model.add(MaxPooling2D(pool_size=(2,2)))\n",
    "\n",
    "model.add(Conv2D(64, (3,3),activation='relu', kernel_initializer='he_uniform'))\n",
    "model.add(MaxPooling2D(pool_size=(2,2)))\n",
    "\n",
    "model.add(Flatten())\n",
    "model.add(Dense(64,activation='relu'))\n",
    "model.add(Dropout(0.5))\n",
    "model.add(Dense(1,activation='sigmoid'))"
   ]
  },
  {
   "cell_type": "code",
   "execution_count": 13,
   "id": "4998af16",
   "metadata": {},
   "outputs": [],
   "source": [
    "model.compile(loss='binary_crossentropy',optimizer='adam', metrics=['accuracy'])"
   ]
  },
  {
   "cell_type": "code",
   "execution_count": null,
   "id": "a9b4bbf0",
   "metadata": {},
   "outputs": [],
   "source": [
    "model.fit(X_train, y_train, \n",
    "batch_size=32, \n",
    "verbose=1, epochs=100, \n",
    "validation_data=(X_test, y_test),\n",
    "shuffle=False)"
   ]
  },
  {
   "cell_type": "code",
   "execution_count": 15,
   "id": "c12f894d",
   "metadata": {},
   "outputs": [],
   "source": [
    "model.save('BrainTumorBig.h5')"
   ]
  },
  {
   "cell_type": "code",
   "execution_count": null,
   "id": "64acbd7a",
   "metadata": {},
   "outputs": [],
   "source": [
    "model = load_model('BrainTumorBig.h5')"
   ]
  },
  {
   "cell_type": "code",
   "execution_count": null,
   "id": "2d7ec78e",
   "metadata": {},
   "outputs": [],
   "source": [
    "def make_prediction(img):\n",
    "    \n",
    "    input_img = np.expand_dims(img, axis=0)\n",
    "    \n",
    "    res = (model.predict(input_img) > 0.5).astype(\"int32\")\n",
    "    return res"
   ]
  },
  {
   "cell_type": "code",
   "execution_count": null,
   "id": "183ee796",
   "metadata": {},
   "outputs": [],
   "source": [
    "def show_result(img):\n",
    "    img_path = f\"{image_directory}pred/{img}\"\n",
    "    image = cv2.imread(img_path)\n",
    "\n",
    "    img = Image.fromarray(image)\n",
    "\n",
    "    img = img.resize((64,64))\n",
    "\n",
    "    img = np.array(img)\n",
    "    \n",
    "    plt.imshow(img)\n",
    "    plt.show()\n",
    "    \n",
    "    pred = make_prediction(img)\n",
    "    if pred:\n",
    "        print(\"Tumor Detected\")\n",
    "    else:\n",
    "        print(\"No Tumor\")"
   ]
  },
  {
   "cell_type": "code",
   "execution_count": null,
   "id": "a10e5d69",
   "metadata": {},
   "outputs": [
    {
     "data": {
      "image/png": "[encoded data removed]",
      "text/plain": [
       "<Figure size 432x288 with 1 Axes>"
      ]
     },
     "metadata": {
      "needs_background": "light"
     },
     "output_type": "display_data"
    },
    {
     "name": "stdout",
     "output_type": "stream",
     "text": [
      "1/1 [==============================] - 0s 255ms/step\n",
      "No Tumor\n"
     ]
    }
   ],
   "source": [
    "show_result('dataset\\yes\\y2.jpg')"
   ]
  },
  {
   "cell_type": "code",
   "execution_count": 10,
   "id": "561a8e90",
   "metadata": {},
   "outputs": [],
   "source": [
    "def show_result(img):\n",
    "    img_path = f\"{image_directory}yes/{img}\"\n",
    "    image = cv2.imread(img_path)\n",
    "\n",
    "    img = Image.fromarray(image)\n",
    "\n",
    "    img = img.resize((64,64))\n",
    "\n",
    "    img = np.array(img)\n",
    "    \n",
    "    \n",
    "    \n",
    "    pred = make_prediction(img)\n",
    "    if pred:\n",
    "        return(\"Tumor Detected\")\n",
    "    else:\n",
    "        return(\"No Tumor\")"
   ]
  },
  {
   "cell_type": "code",
   "execution_count": null,
   "id": "b73d9d0c",
   "metadata": {},
   "outputs": [],
   "source": [
    "alist=[]\n",
    "blist=[]\n",
    "for i in range(0,1500):\n",
    "    a=str(i)\n",
    "    path0=\"y\"+a+\".jpg\"\n",
    "    c=show_result(path0)\n",
    "    alist.append(path0)\n",
    "    blist.append(c)\n",
    "   \n",
    "   \n",
    "    \n",
    "    \n",
    "    \n"
   ]
  },
  {
   "cell_type": "code",
   "execution_count": 12,
   "id": "cb2a8a46",
   "metadata": {},
   "outputs": [
    {
     "name": "stdout",
     "output_type": "stream",
     "text": [
      "211\n",
      "1289\n"
     ]
    }
   ],
   "source": [
    "print(blist.count(\"No Tumor\"))\n",
    "print(blist.count(\"Tumor Detected\"))"
   ]
  },
  {
   "cell_type": "code",
   "execution_count": 23,
   "id": "c916071c",
   "metadata": {},
   "outputs": [],
   "source": [
    "def show_result(img):\n",
    "    img_path = f\"{image_directory}no/{img}\"\n",
    "    image = cv2.imread(img_path)\n",
    "\n",
    "    img = Image.fromarray(image)\n",
    "\n",
    "    img = img.resize((64,64))\n",
    "\n",
    "    img = np.array(img)\n",
    "    \n",
    "    \n",
    "    \n",
    "    pred = make_prediction(img)\n",
    "    if pred:\n",
    "        return(\"Tumor Detected\")\n",
    "    else:\n",
    "        return(\"No Tumor\")"
   ]
  },
  {
   "cell_type": "code",
   "execution_count": null,
   "id": "1fd0fab5",
   "metadata": {},
   "outputs": [],
   "source": [
    "a2list=[]\n",
    "b2list=[]\n",
    "for i in range(0,1499):\n",
    "    a2=str(i)\n",
    "    path1=\"no\"+a2+\".jpg\"\n",
    "    c2=show_result(path1)\n",
    "    a2list.append(path1)\n",
    "    b2list.append(c2)\n",
    "   \n",
    "   "
   ]
  },
  {
   "cell_type": "code",
   "execution_count": 25,
   "id": "9b25f8d0",
   "metadata": {},
   "outputs": [
    {
     "name": "stdout",
     "output_type": "stream",
     "text": [
      "65\n",
      "1434\n"
     ]
    }
   ],
   "source": [
    "print(b2list.count(\"Tumor Detected\"))\n",
    "print(b2list.count(\"No Tumor\"))"
   ]
  },
  {
   "cell_type": "code",
   "execution_count": null,
   "id": "161511a1",
   "metadata": {},
   "outputs": [],
   "source": []
  },
  {
   "cell_type": "code",
   "execution_count": null,
   "id": "11dc89e7",
   "metadata": {},
   "outputs": [],
   "source": []
  }
 ],
 "metadata": {
  "kernelspec": {
   "display_name": "Python 3 (ipykernel)",
   "language": "python",
   "name": "python3"
  },
  "language_info": {
   "codemirror_mode": {
    "name": "ipython",
    "version": 3
   },
   "file_extension": ".py",
   "mimetype": "text/x-python",
   "name": "python",
   "nbconvert_exporter": "python",
   "pygments_lexer": "ipython3",
   "version": "3.9.7"
  }
 },
 "nbformat": 4,
 "nbformat_minor": 5
}
